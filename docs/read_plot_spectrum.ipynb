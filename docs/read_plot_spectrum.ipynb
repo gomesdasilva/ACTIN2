{
 "cells": [
  {
   "cell_type": "markdown",
   "metadata": {},
   "source": [
    "## Reading and plotting a spectrum\n",
    "\n",
    "Here we will read and plot a spectrum from the HARPS spectrograph.\n",
    "Extra headers from the fits files, not included by default in `ACTIN`, will also be extracted."
   ]
  },
  {
   "cell_type": "code",
   "execution_count": 1,
   "metadata": {},
   "outputs": [],
   "source": [
    "%matplotlib inline\n",
    "\n",
    "import matplotlib.pylab as plt\n",
    "\n",
    "from actin2 import ACTIN\n",
    "actin = ACTIN()"
   ]
  },
  {
   "cell_type": "markdown",
   "metadata": {},
   "source": [
    "First we are going to use a fits file provided by `ACTIN` in the ``test`` directory."
   ]
  },
  {
   "cell_type": "code",
   "execution_count": 2,
   "metadata": {},
   "outputs": [
    {
     "name": "stdout",
     "output_type": "stream",
     "text": [
      "['../actin2/test/HARPS/HD41248/HARPS.2014-01-24T01:18:06.472_s1d_A.fits', '../actin2/test/HARPS/HD41248/HARPS.2014-01-16T06:24:23.418_s1d_A.fits', '../actin2/test/HARPS/HD41248/HARPS.2014-01-24T04:17:29.213_s1d_A.fits', '../actin2/test/HARPS/HD41248/HARPS.2014-01-21T05:33:32.740_s1d_A.fits', '../actin2/test/HARPS/HD41248/HARPS.2014-01-21T03:16:16.891_s1d_A.fits', '../actin2/test/HARPS/HD41248/HARPS.2014-01-16T05:37:46.157_s1d_A.fits']\n"
     ]
    }
   ],
   "source": [
    "import os, glob\n",
    "files = glob.glob(os.path.join(os.pardir, \"actin2/test/HARPS/HD41248\", \"*_s1d_A.fits\"))\n",
    "print(files)"
   ]
  },
  {
   "cell_type": "markdown",
   "metadata": {},
   "source": [
    "Now we read the spectrum by calling the class `actin.ReadSpec` with the file name inside `files` the list. The class ``actin.ReadSpec`` can read one fits file and identify the spectrum to read it automatically."
   ]
  },
  {
   "cell_type": "code",
   "execution_count": 3,
   "metadata": {},
   "outputs": [],
   "source": [
    "read_spec = actin.ReadSpec(files[0])"
   ]
  },
  {
   "cell_type": "markdown",
   "metadata": {},
   "source": [
    "The spectrum data is now stored in `read_spec` which includes dictionaries with the `spectrum`, `headers`, some plotting functions and the `spec` object. The `read_spec.spec` object is a reference to the spectrograph class used to read the file, in this case HARPS. All methods of the `HARPS` class will be available in `read_spec.spec`."
   ]
  },
  {
   "cell_type": "code",
   "execution_count": 4,
   "metadata": {},
   "outputs": [
    {
     "name": "stdout",
     "output_type": "stream",
     "text": [
      "<actin2.readspec.ReadSpec object at 0x11900e400>\n",
      "<actin2.spectrographs.HARPS.HARPS object at 0x11e0eca90>\n"
     ]
    }
   ],
   "source": [
    "print(read_spec)\n",
    "print(read_spec.spec)"
   ]
  },
  {
   "cell_type": "code",
   "execution_count": 5,
   "metadata": {},
   "outputs": [
    {
     "name": "stdout",
     "output_type": "stream",
     "text": [
      "['__class__', '__delattr__', '__dict__', '__dir__', '__doc__', '__eq__', '__format__', '__ge__', '__getattribute__', '__gt__', '__hash__', '__init__', '__init_subclass__', '__le__', '__lt__', '__module__', '__ne__', '__new__', '__reduce__', '__reduce_ex__', '__repr__', '__setattr__', '__sizeof__', '__str__', '__subclasshook__', '__weakref__', 'headers', 'plot_bisector', 'plot_ccf', 'plot_spec', 'spec', 'spectrum']\n",
      "['__class__', '__delattr__', '__dict__', '__dir__', '__doc__', '__eq__', '__format__', '__ge__', '__getattribute__', '__gt__', '__hash__', '__init__', '__init_subclass__', '__le__', '__lt__', '__module__', '__ne__', '__new__', '__reduce__', '__reduce_ex__', '__repr__', '__setattr__', '__sizeof__', '__str__', '__subclasshook__', '__weakref__', '_deblaze', '_get_snr', '_get_target', '_save_object_data', '_search_file', 'ccf_profile', 'headers', 'spectrum']\n"
     ]
    }
   ],
   "source": [
    "print(dir(read_spec))\n",
    "print(dir(read_spec.spec))"
   ]
  },
  {
   "cell_type": "markdown",
   "metadata": {},
   "source": [
    "The `spectrum`, `headers` and `ccf_profile` methods are dictionaries containing the spectrum, the instrument fits headers, and the CCF profile, respectively.\n",
    "\n",
    "The spectrum includes the raw (`wave_raw`, `flux_raw`) and the stellar rest frame corrected spectrum (`wave`, `flux`, `flux_err`). Depending on the fits files loaded, the `raw` data could be the same as the 'final' data (e.g. if the flux is already deblazed, as is generally the case for the 1d files)."
   ]
  },
  {
   "cell_type": "code",
   "execution_count": 6,
   "metadata": {},
   "outputs": [
    {
     "name": "stdout",
     "output_type": "stream",
     "text": [
      "dict_keys(['wave_raw', 'flux_raw', 'wave', 'flux', 'flux_err'])\n",
      "[3781.50553121 3781.51553109 3781.52553098 ... 6912.68870992 6912.6987098\n",
      " 6912.70870968]\n",
      "[3781.55 3781.56 3781.57 ... 6912.77 6912.78 6912.79]\n"
     ]
    }
   ],
   "source": [
    "spectrum = read_spec.spectrum\n",
    "print(spectrum.keys())\n",
    "print(spectrum['wave'])\n",
    "print(spectrum['wave_raw'])"
   ]
  },
  {
   "cell_type": "markdown",
   "metadata": {},
   "source": [
    "The headers contain selected headers extracted from the fits files."
   ]
  },
  {
   "cell_type": "code",
   "execution_count": 7,
   "metadata": {},
   "outputs": [
    {
     "data": {
      "text/plain": [
       "{'obj': 'HD41248',\n",
       " 'instr': 'HARPS',\n",
       " 'date_obs': '2014-01-24T01:18:06.471',\n",
       " 'bjd': 2456681.5586334,\n",
       " 'drs': 'HARPS_3.7',\n",
       " 'exptime': 600.0018,\n",
       " 'ra': 90.136782,\n",
       " 'dec': -56.16351,\n",
       " 'snr7': 15.7,\n",
       " 'snr50': 67.6,\n",
       " 'prog_id': '190.C-0027(A)',\n",
       " 'pi_coi': 'Santos',\n",
       " 'cal_th_err': 0.251928438934471,\n",
       " 'berv': -2906.50537382529,\n",
       " 'spec_rv': 3400.0,\n",
       " 'snr_med': 55.0,\n",
       " 'ftype': 's1d',\n",
       " 'rv_flg': 'CCF',\n",
       " 'rv': 3525.3817390101003,\n",
       " 'dvrms': 1.07284148378742,\n",
       " 'ccf_noise': 1.61618716144072,\n",
       " 'fwhm': 6747.20227395774,\n",
       " 'cont': 39.2040895675395,\n",
       " 'ccf_mask': 'G2',\n",
       " 'drift_noise': 0.086,\n",
       " 'drift_rv': 0.176,\n",
       " 'rv_wave_corr': 3525.3817390101003,\n",
       " 'rv_err': 1.6379636379205038,\n",
       " 'spec_flg': 'OK',\n",
       " 'file': 'HARPS.2014-01-24T01:18:06.472_s1d_A.fits'}"
      ]
     },
     "execution_count": 7,
     "metadata": {},
     "output_type": "execute_result"
    }
   ],
   "source": [
    "headers = read_spec.headers\n",
    "headers"
   ]
  },
  {
   "cell_type": "markdown",
   "metadata": {},
   "source": [
    "New headers can be added using the `add_spec_hdrs` option.\n",
    "For example, to extract also the SNR at order 20:"
   ]
  },
  {
   "cell_type": "code",
   "execution_count": 8,
   "metadata": {},
   "outputs": [
    {
     "name": "stdout",
     "output_type": "stream",
     "text": [
      "SNR20 = 67.6\n"
     ]
    }
   ],
   "source": [
    "read_spec = actin.ReadSpec(files[0], \n",
    "    add_spec_hdrs=dict(snr20='HIERARCH ESO DRS SPE EXT SN50'))\n",
    "\n",
    "print(\"SNR20 =\", read_spec.headers['snr20'])"
   ]
  },
  {
   "cell_type": "markdown",
   "metadata": {},
   "source": [
    "To see the spectrum we can call the `plot` method to plot the full spectrum. If the file was a 2D spectrum, we could have used the `order` option in the `plot` method to select the order to plot. The option ```show=False``` can be used to produce the plot without calling `plt.show()` so the plot can be used afterwards."
   ]
  },
  {
   "cell_type": "code",
   "execution_count": 9,
   "metadata": {},
   "outputs": [
    {
     "data": {
      "image/png": "[encoded data removed]",
      "text/plain": [
       "<Figure size 432x288 with 1 Axes>"
      ]
     },
     "metadata": {
      "needs_background": "light"
     },
     "output_type": "display_data"
    }
   ],
   "source": [
    "read_spec.plot_spec(order=66, show=True, c='k', lw=0.7)"
   ]
  },
  {
   "cell_type": "markdown",
   "metadata": {},
   "source": [
    "The `plot` method accepts keywords used in `matplotlib.pylab.plot` so the plot parameters can be changed easily."
   ]
  },
  {
   "cell_type": "markdown",
   "metadata": {},
   "source": [
    "We can compare the spectrum at the star's rest frame (the one plotted above) with the unshifted spectrum in the zone of the H$\\alpha$ line:"
   ]
  },
  {
   "cell_type": "code",
   "execution_count": 10,
   "metadata": {},
   "outputs": [
    {
     "data": {
      "image/png": "[encoded data removed]",
      "text/plain": [
       "<Figure size 432x288 with 1 Axes>"
      ]
     },
     "metadata": {
      "needs_background": "light"
     },
     "output_type": "display_data"
    }
   ],
   "source": [
    "read_spec.plot_spec(show=False, lw=0.7, c='k', label='stellar rest frame')\n",
    "read_spec.plot_spec(key_wave='wave_raw', ls='--', show=False, lw=0.7, c='b', label='raw wavelength')\n",
    "plt.xlim(6561, 6565)\n",
    "plt.ylim(0, 3000)\n",
    "plt.legend(frameon=False, loc=3)\n",
    "plt.show()"
   ]
  }
 ],
 "metadata": {
  "interpreter": {
   "hash": "398dc28c06ad810e77de546bbdfa897a6ee0b83e59a5207339dda01a7843e01d"
  },
  "kernelspec": {
   "display_name": "Python 3.7.3 64-bit ('base': conda)",
   "name": "python3"
  },
  "language_info": {
   "codemirror_mode": {
    "name": "ipython",
    "version": 3
   },
   "file_extension": ".py",
   "mimetype": "text/x-python",
   "name": "python",
   "nbconvert_exporter": "python",
   "pygments_lexer": "ipython3",
   "version": "3.7.3"
  },
  "orig_nbformat": 2
 },
 "nbformat": 4,
 "nbformat_minor": 2
}
