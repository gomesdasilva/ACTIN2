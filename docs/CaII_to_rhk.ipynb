{
 "cells": [
  {
   "cell_type": "markdown",
   "metadata": {},
   "source": [
    "## Converting CaII to $\\log R'_\\text{HK}$\n",
    "\n",
    "Use [pyrhk](https://github.com/gomesdasilva/pyrhk) to convert the `I_CaII` index from ACTIN to the $S_\\mathrm{MW}$ scale using the `pyrhk.calc_smw` function and then convert the $S_\\mathrm{MW}$ values to $\\log R'_\\mathrm{HK}$ using `pyrhk.calc_rhk`. Various calibrations are available for different instruments and stellar types."
   ]
  }
 ],
 "metadata": {
  "kernelspec": {
   "display_name": "Python 3.7.3 ('base')",
   "language": "python",
   "name": "python3"
  },
  "language_info": {
   "name": "python",
   "version": "3.7.3"
  },
  "orig_nbformat": 4,
  "vscode": {
   "interpreter": {
    "hash": "398dc28c06ad810e77de546bbdfa897a6ee0b83e59a5207339dda01a7843e01d"
   }
  }
 },
 "nbformat": 4,
 "nbformat_minor": 2
}
