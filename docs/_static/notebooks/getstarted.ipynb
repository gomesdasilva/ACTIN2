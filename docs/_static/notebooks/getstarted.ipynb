{
 "metadata": {
  "language_info": {
   "codemirror_mode": {
    "name": "ipython",
    "version": 3
   },
   "file_extension": ".py",
   "mimetype": "text/x-python",
   "name": "python",
   "nbconvert_exporter": "python",
   "pygments_lexer": "ipython3",
   "version": "3.7.3"
  },
  "orig_nbformat": 2,
  "kernelspec": {
   "name": "python3",
   "display_name": "Python 3.7.3 64-bit ('base': conda)",
   "metadata": {
    "interpreter": {
     "hash": "398dc28c06ad810e77de546bbdfa897a6ee0b83e59a5207339dda01a7843e01d"
    }
   }
  }
 },
 "nbformat": 4,
 "nbformat_minor": 2,
 "cells": [
  {
   "source": [
    "## Getting started\n",
    "\n",
    "Start by importing and initializing `ACTIN`"
   ],
   "cell_type": "markdown",
   "metadata": {}
  },
  {
   "cell_type": "code",
   "execution_count": 7,
   "metadata": {},
   "outputs": [],
   "source": [
    "from actin2 import actin2\n",
    "\n",
    "actin = actin2.ACTIN()"
   ]
  },
  {
   "source": [
    "Get the HARPS 1D fits files of the star HD41248 from the `test` folder"
   ],
   "cell_type": "markdown",
   "metadata": {}
  },
  {
   "cell_type": "code",
   "execution_count": 8,
   "metadata": {},
   "outputs": [
    {
     "output_type": "execute_result",
     "data": {
      "text/plain": [
       "['../../../actin2/test/HARPS/HD41248/HARPS.2014-01-24T01:18:06.472_s1d_A.fits',\n",
       " '../../../actin2/test/HARPS/HD41248/HARPS.2014-01-16T06:24:23.418_s1d_A.fits',\n",
       " '../../../actin2/test/HARPS/HD41248/HARPS.2014-01-24T04:17:29.213_s1d_A.fits',\n",
       " '../../../actin2/test/HARPS/HD41248/HARPS.2014-01-21T05:33:32.740_s1d_A.fits',\n",
       " '../../../actin2/test/HARPS/HD41248/HARPS.2014-01-21T03:16:16.891_s1d_A.fits',\n",
       " '../../../actin2/test/HARPS/HD41248/HARPS.2014-01-16T05:37:46.157_s1d_A.fits']"
      ]
     },
     "metadata": {},
     "execution_count": 8
    }
   ],
   "source": [
    "import glob, os\n",
    "files = glob.glob(os.path.join(os.pardir, os.pardir, os.pardir, \"actin2/test/HARPS/HD41248\", \"*_s1d_A.fits\"))\n",
    "files"
   ]
  },
  {
   "source": [
    "Check which indices come pre-installed"
   ],
   "cell_type": "markdown",
   "metadata": {}
  },
  {
   "cell_type": "code",
   "execution_count": 9,
   "metadata": {},
   "outputs": [
    {
     "output_type": "execute_result",
     "data": {
      "text/plain": [
       "    ind_id ind_var   ln_id  ln_c    ln_ctr  ln_win bandtype\n",
       "0   I_CaII      L1   CaIIK   1.0  3933.664    1.09      tri\n",
       "1   I_CaII      L2   CaIIH   1.0  3968.470    1.09      tri\n",
       "2   I_CaII      R1  CaIIR1   1.0  3901.070   20.00       sq\n",
       "3   I_CaII      R2  CaIIR2   1.0  4001.070   20.00       sq\n",
       "4    I_NaI      L1   NaID1   1.0  5895.920    0.50       sq\n",
       "5    I_NaI      L2   NaID2   1.0  5889.950    0.50       sq\n",
       "6    I_NaI      R1   NaIR1   1.0  5805.000   10.00       sq\n",
       "7    I_NaI      R2   NaIR2   1.0  6097.000   20.00       sq\n",
       "8   I_Ha16      L1    Ha16   1.0  6562.808    1.60       sq\n",
       "9   I_Ha16      R1    HaR1   1.0  6550.870   10.75       sq\n",
       "10  I_Ha16      R2    HaR2   1.0  6580.310    8.75       sq\n",
       "11  I_Ha06      L1    Ha06   1.0  6562.808    0.60       sq\n",
       "12  I_Ha06      R1    HaR1   1.0  6550.870   10.75       sq\n",
       "13  I_Ha06      R2    HaR2   1.0  6580.310    8.75       sq\n",
       "14   I_HeI      L1     HeI   1.0  5875.620    0.40       sq\n",
       "15   I_HeI      R1   HeIR1   1.0  5869.000    5.00       sq\n",
       "16   I_HeI      R2   HeIR2   1.0  5881.000    5.00       sq\n",
       "17   I_CaI      L1     CaI   1.0  6572.795    0.34      tri\n",
       "18   I_CaI      R1    HaR1   1.0  6550.870   10.75       sq\n",
       "19   I_CaI      R2    HaR2   1.0  6580.310    8.75       sq"
      ],
      "text/html": "<div>\n<style scoped>\n    .dataframe tbody tr th:only-of-type {\n        vertical-align: middle;\n    }\n\n    .dataframe tbody tr th {\n        vertical-align: top;\n    }\n\n    .dataframe thead th {\n        text-align: right;\n    }\n</style>\n<table border=\"1\" class=\"dataframe\">\n  <thead>\n    <tr style=\"text-align: right;\">\n      <th></th>\n      <th>ind_id</th>\n      <th>ind_var</th>\n      <th>ln_id</th>\n      <th>ln_c</th>\n      <th>ln_ctr</th>\n      <th>ln_win</th>\n      <th>bandtype</th>\n    </tr>\n  </thead>\n  <tbody>\n    <tr>\n      <th>0</th>\n      <td>I_CaII</td>\n      <td>L1</td>\n      <td>CaIIK</td>\n      <td>1.0</td>\n      <td>3933.664</td>\n      <td>1.09</td>\n      <td>tri</td>\n    </tr>\n    <tr>\n      <th>1</th>\n      <td>I_CaII</td>\n      <td>L2</td>\n      <td>CaIIH</td>\n      <td>1.0</td>\n      <td>3968.470</td>\n      <td>1.09</td>\n      <td>tri</td>\n    </tr>\n    <tr>\n      <th>2</th>\n      <td>I_CaII</td>\n      <td>R1</td>\n      <td>CaIIR1</td>\n      <td>1.0</td>\n      <td>3901.070</td>\n      <td>20.00</td>\n      <td>sq</td>\n    </tr>\n    <tr>\n      <th>3</th>\n      <td>I_CaII</td>\n      <td>R2</td>\n      <td>CaIIR2</td>\n      <td>1.0</td>\n      <td>4001.070</td>\n      <td>20.00</td>\n      <td>sq</td>\n    </tr>\n    <tr>\n      <th>4</th>\n      <td>I_NaI</td>\n      <td>L1</td>\n      <td>NaID1</td>\n      <td>1.0</td>\n      <td>5895.920</td>\n      <td>0.50</td>\n      <td>sq</td>\n    </tr>\n    <tr>\n      <th>5</th>\n      <td>I_NaI</td>\n      <td>L2</td>\n      <td>NaID2</td>\n      <td>1.0</td>\n      <td>5889.950</td>\n      <td>0.50</td>\n      <td>sq</td>\n    </tr>\n    <tr>\n      <th>6</th>\n      <td>I_NaI</td>\n      <td>R1</td>\n      <td>NaIR1</td>\n      <td>1.0</td>\n      <td>5805.000</td>\n      <td>10.00</td>\n      <td>sq</td>\n    </tr>\n    <tr>\n      <th>7</th>\n      <td>I_NaI</td>\n      <td>R2</td>\n      <td>NaIR2</td>\n      <td>1.0</td>\n      <td>6097.000</td>\n      <td>20.00</td>\n      <td>sq</td>\n    </tr>\n    <tr>\n      <th>8</th>\n      <td>I_Ha16</td>\n      <td>L1</td>\n      <td>Ha16</td>\n      <td>1.0</td>\n      <td>6562.808</td>\n      <td>1.60</td>\n      <td>sq</td>\n    </tr>\n    <tr>\n      <th>9</th>\n      <td>I_Ha16</td>\n      <td>R1</td>\n      <td>HaR1</td>\n      <td>1.0</td>\n      <td>6550.870</td>\n      <td>10.75</td>\n      <td>sq</td>\n    </tr>\n    <tr>\n      <th>10</th>\n      <td>I_Ha16</td>\n      <td>R2</td>\n      <td>HaR2</td>\n      <td>1.0</td>\n      <td>6580.310</td>\n      <td>8.75</td>\n      <td>sq</td>\n    </tr>\n    <tr>\n      <th>11</th>\n      <td>I_Ha06</td>\n      <td>L1</td>\n      <td>Ha06</td>\n      <td>1.0</td>\n      <td>6562.808</td>\n      <td>0.60</td>\n      <td>sq</td>\n    </tr>\n    <tr>\n      <th>12</th>\n      <td>I_Ha06</td>\n      <td>R1</td>\n      <td>HaR1</td>\n      <td>1.0</td>\n      <td>6550.870</td>\n      <td>10.75</td>\n      <td>sq</td>\n    </tr>\n    <tr>\n      <th>13</th>\n      <td>I_Ha06</td>\n      <td>R2</td>\n      <td>HaR2</td>\n      <td>1.0</td>\n      <td>6580.310</td>\n      <td>8.75</td>\n      <td>sq</td>\n    </tr>\n    <tr>\n      <th>14</th>\n      <td>I_HeI</td>\n      <td>L1</td>\n      <td>HeI</td>\n      <td>1.0</td>\n      <td>5875.620</td>\n      <td>0.40</td>\n      <td>sq</td>\n    </tr>\n    <tr>\n      <th>15</th>\n      <td>I_HeI</td>\n      <td>R1</td>\n      <td>HeIR1</td>\n      <td>1.0</td>\n      <td>5869.000</td>\n      <td>5.00</td>\n      <td>sq</td>\n    </tr>\n    <tr>\n      <th>16</th>\n      <td>I_HeI</td>\n      <td>R2</td>\n      <td>HeIR2</td>\n      <td>1.0</td>\n      <td>5881.000</td>\n      <td>5.00</td>\n      <td>sq</td>\n    </tr>\n    <tr>\n      <th>17</th>\n      <td>I_CaI</td>\n      <td>L1</td>\n      <td>CaI</td>\n      <td>1.0</td>\n      <td>6572.795</td>\n      <td>0.34</td>\n      <td>tri</td>\n    </tr>\n    <tr>\n      <th>18</th>\n      <td>I_CaI</td>\n      <td>R1</td>\n      <td>HaR1</td>\n      <td>1.0</td>\n      <td>6550.870</td>\n      <td>10.75</td>\n      <td>sq</td>\n    </tr>\n    <tr>\n      <th>19</th>\n      <td>I_CaI</td>\n      <td>R2</td>\n      <td>HaR2</td>\n      <td>1.0</td>\n      <td>6580.310</td>\n      <td>8.75</td>\n      <td>sq</td>\n    </tr>\n  </tbody>\n</table>\n</div>"
     },
     "metadata": {},
     "execution_count": 9
    }
   ],
   "source": [
    "actin.IndTable().table"
   ]
  },
  {
   "source": [
    "We are going to calculate the indices based on the CaII H&K, Halpha (using 0.6 ang central band) and NaI D2 lines by using the respective index ID as in `ìnd_id`:"
   ],
   "cell_type": "markdown",
   "metadata": {}
  },
  {
   "cell_type": "code",
   "execution_count": 10,
   "metadata": {},
   "outputs": [],
   "source": [
    "indices = ['I_CaII', 'I_Ha06', 'I_NaI']"
   ]
  },
  {
   "source": [
    "Now calculate the indices for the loaded files"
   ],
   "cell_type": "markdown",
   "metadata": {}
  },
  {
   "cell_type": "code",
   "execution_count": 11,
   "metadata": {},
   "outputs": [],
   "source": [
    "df = actin.run(files, indices)"
   ]
  },
  {
   "cell_type": "code",
   "execution_count": 12,
   "metadata": {},
   "outputs": [
    {
     "output_type": "execute_result",
     "data": {
      "text/plain": [
       "       obj  instr                 date_obs           bjd  snr_med ftype  \\\n",
       "0  HD41248  HARPS  2014-01-16T05:37:46.156  2.456674e+06    44.65   s1d   \n",
       "1  HD41248  HARPS  2014-01-16T06:24:23.418  2.456674e+06    45.05   s1d   \n",
       "2  HD41248  HARPS  2014-01-21T03:16:16.890  2.456679e+06    84.55   s1d   \n",
       "3  HD41248  HARPS  2014-01-21T05:33:32.739  2.456679e+06    81.10   s1d   \n",
       "4  HD41248  HARPS  2014-01-24T01:18:06.471  2.456682e+06    55.00   s1d   \n",
       "5  HD41248  HARPS  2014-01-24T04:17:29.213  2.456682e+06    56.20   s1d   \n",
       "\n",
       "            rv    rv_err         berv  ccf_noise  ...    I_CaII  I_CaII_err  \\\n",
       "0  3527.490001  1.347834 -2470.193861   2.032679  ...  0.126961    0.001451   \n",
       "1  3526.934415  1.344395 -2504.977966   2.022905  ...  0.138299    0.001461   \n",
       "2  3525.688453  0.729949 -2776.259431   1.025167  ...  0.145478    0.000734   \n",
       "3  3530.066278  0.757785 -2902.816742   1.078529  ...  0.141641    0.000777   \n",
       "4  3525.381739  1.072841 -2906.505374   1.616187  ...  0.139616    0.001181   \n",
       "5  3525.766877  1.056758 -3088.383563   1.584311  ...  0.137772    0.001124   \n",
       "\n",
       "   I_CaII_mrneg    I_Ha06 I_Ha06_err  I_Ha06_mrneg     I_NaI  I_NaI_err  \\\n",
       "0           0.0  0.107768   0.000661           0.0  0.358034   0.001259   \n",
       "1           0.0  0.105850   0.000663           0.0  0.356336   0.001262   \n",
       "2           0.0  0.105248   0.000376           0.0  0.358023   0.000710   \n",
       "3           0.0  0.105052   0.000388           0.0  0.357874   0.000734   \n",
       "4           0.0  0.106157   0.000547           0.0  0.356969   0.001042   \n",
       "5           0.0  0.107016   0.000557           0.0  0.357166   0.001044   \n",
       "\n",
       "   I_NaI_mrneg  actin_ver  \n",
       "0          0.0      2.0.0  \n",
       "1          0.0      2.0.0  \n",
       "2          0.0      2.0.0  \n",
       "3          0.0      2.0.0  \n",
       "4          0.0      2.0.0  \n",
       "5          0.0      2.0.0  \n",
       "\n",
       "[6 rows x 25 columns]"
      ],
      "text/html": "<div>\n<style scoped>\n    .dataframe tbody tr th:only-of-type {\n        vertical-align: middle;\n    }\n\n    .dataframe tbody tr th {\n        vertical-align: top;\n    }\n\n    .dataframe thead th {\n        text-align: right;\n    }\n</style>\n<table border=\"1\" class=\"dataframe\">\n  <thead>\n    <tr style=\"text-align: right;\">\n      <th></th>\n      <th>obj</th>\n      <th>instr</th>\n      <th>date_obs</th>\n      <th>bjd</th>\n      <th>snr_med</th>\n      <th>ftype</th>\n      <th>rv</th>\n      <th>rv_err</th>\n      <th>berv</th>\n      <th>ccf_noise</th>\n      <th>...</th>\n      <th>I_CaII</th>\n      <th>I_CaII_err</th>\n      <th>I_CaII_mrneg</th>\n      <th>I_Ha06</th>\n      <th>I_Ha06_err</th>\n      <th>I_Ha06_mrneg</th>\n      <th>I_NaI</th>\n      <th>I_NaI_err</th>\n      <th>I_NaI_mrneg</th>\n      <th>actin_ver</th>\n    </tr>\n  </thead>\n  <tbody>\n    <tr>\n      <th>0</th>\n      <td>HD41248</td>\n      <td>HARPS</td>\n      <td>2014-01-16T05:37:46.156</td>\n      <td>2.456674e+06</td>\n      <td>44.65</td>\n      <td>s1d</td>\n      <td>3527.490001</td>\n      <td>1.347834</td>\n      <td>-2470.193861</td>\n      <td>2.032679</td>\n      <td>...</td>\n      <td>0.126961</td>\n      <td>0.001451</td>\n      <td>0.0</td>\n      <td>0.107768</td>\n      <td>0.000661</td>\n      <td>0.0</td>\n      <td>0.358034</td>\n      <td>0.001259</td>\n      <td>0.0</td>\n      <td>2.0.0</td>\n    </tr>\n    <tr>\n      <th>1</th>\n      <td>HD41248</td>\n      <td>HARPS</td>\n      <td>2014-01-16T06:24:23.418</td>\n      <td>2.456674e+06</td>\n      <td>45.05</td>\n      <td>s1d</td>\n      <td>3526.934415</td>\n      <td>1.344395</td>\n      <td>-2504.977966</td>\n      <td>2.022905</td>\n      <td>...</td>\n      <td>0.138299</td>\n      <td>0.001461</td>\n      <td>0.0</td>\n      <td>0.105850</td>\n      <td>0.000663</td>\n      <td>0.0</td>\n      <td>0.356336</td>\n      <td>0.001262</td>\n      <td>0.0</td>\n      <td>2.0.0</td>\n    </tr>\n    <tr>\n      <th>2</th>\n      <td>HD41248</td>\n      <td>HARPS</td>\n      <td>2014-01-21T03:16:16.890</td>\n      <td>2.456679e+06</td>\n      <td>84.55</td>\n      <td>s1d</td>\n      <td>3525.688453</td>\n      <td>0.729949</td>\n      <td>-2776.259431</td>\n      <td>1.025167</td>\n      <td>...</td>\n      <td>0.145478</td>\n      <td>0.000734</td>\n      <td>0.0</td>\n      <td>0.105248</td>\n      <td>0.000376</td>\n      <td>0.0</td>\n      <td>0.358023</td>\n      <td>0.000710</td>\n      <td>0.0</td>\n      <td>2.0.0</td>\n    </tr>\n    <tr>\n      <th>3</th>\n      <td>HD41248</td>\n      <td>HARPS</td>\n      <td>2014-01-21T05:33:32.739</td>\n      <td>2.456679e+06</td>\n      <td>81.10</td>\n      <td>s1d</td>\n      <td>3530.066278</td>\n      <td>0.757785</td>\n      <td>-2902.816742</td>\n      <td>1.078529</td>\n      <td>...</td>\n      <td>0.141641</td>\n      <td>0.000777</td>\n      <td>0.0</td>\n      <td>0.105052</td>\n      <td>0.000388</td>\n      <td>0.0</td>\n      <td>0.357874</td>\n      <td>0.000734</td>\n      <td>0.0</td>\n      <td>2.0.0</td>\n    </tr>\n    <tr>\n      <th>4</th>\n      <td>HD41248</td>\n      <td>HARPS</td>\n      <td>2014-01-24T01:18:06.471</td>\n      <td>2.456682e+06</td>\n      <td>55.00</td>\n      <td>s1d</td>\n      <td>3525.381739</td>\n      <td>1.072841</td>\n      <td>-2906.505374</td>\n      <td>1.616187</td>\n      <td>...</td>\n      <td>0.139616</td>\n      <td>0.001181</td>\n      <td>0.0</td>\n      <td>0.106157</td>\n      <td>0.000547</td>\n      <td>0.0</td>\n      <td>0.356969</td>\n      <td>0.001042</td>\n      <td>0.0</td>\n      <td>2.0.0</td>\n    </tr>\n    <tr>\n      <th>5</th>\n      <td>HD41248</td>\n      <td>HARPS</td>\n      <td>2014-01-24T04:17:29.213</td>\n      <td>2.456682e+06</td>\n      <td>56.20</td>\n      <td>s1d</td>\n      <td>3525.766877</td>\n      <td>1.056758</td>\n      <td>-3088.383563</td>\n      <td>1.584311</td>\n      <td>...</td>\n      <td>0.137772</td>\n      <td>0.001124</td>\n      <td>0.0</td>\n      <td>0.107016</td>\n      <td>0.000557</td>\n      <td>0.0</td>\n      <td>0.357166</td>\n      <td>0.001044</td>\n      <td>0.0</td>\n      <td>2.0.0</td>\n    </tr>\n  </tbody>\n</table>\n<p>6 rows × 25 columns</p>\n</div>"
     },
     "metadata": {},
     "execution_count": 12
    }
   ],
   "source": [
    "df"
   ]
  },
  {
   "source": [
    "and plot the results"
   ],
   "cell_type": "markdown",
   "metadata": {}
  },
  {
   "source": [
    "import matplotlib.pylab as plt\n",
    "for index in indices:\n",
    "    plt.figure()\n",
    "    plt.errorbar(df.bjd, df[index], df[index + \"_err\"], ls='', marker='.', c='k')\n",
    "    plt.show()"
   ],
   "cell_type": "code",
   "metadata": {},
   "execution_count": 19,
   "outputs": []
  }
 ]
}